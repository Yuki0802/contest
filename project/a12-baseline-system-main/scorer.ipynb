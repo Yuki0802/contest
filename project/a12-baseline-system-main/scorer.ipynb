{
 "cells": [
  {
   "cell_type": "code",
   "execution_count": 1,
   "metadata": {},
   "outputs": [
    {
     "name": "stdout",
     "output_type": "stream",
     "text": [
      "Load EXP/fwwb_80FBANK_ECAPATDNN_AAMsoftmax_256_dist/model_43.pkl\n"
     ]
    },
    {
     "data": {
      "text/plain": "0it [00:00, ?it/s]",
      "application/vnd.jupyter.widget-view+json": {
       "version_major": 2,
       "version_minor": 0,
       "model_id": "c86429cebe7a410e9e4e8e0340aa8cb9"
      }
     },
     "metadata": {},
     "output_type": "display_data"
    },
    {
     "name": "stdout",
     "output_type": "stream",
     "text": [
      "Epoch 43\t  EER 8.1450\t  cost 1.0000\n",
      "\n"
     ]
    }
   ],
   "source": [
    "import scorer\n",
    "\n",
    "scorer.score(EPOCH=43)"
   ]
  },
  {
   "cell_type": "code",
   "execution_count": 2,
   "outputs": [
    {
     "name": "stdout",
     "output_type": "stream",
     "text": [
      "torch.Size([80, 505])\n",
      "torch.Size([80, 220])\n",
      "0.339090496301651\n"
     ]
    }
   ],
   "source": [
    "from scorer import compare\n",
    "\n",
    "print(compare(\"RES/db/b_1.wav\",\"RES/db/a_2.wav\",EPOCH=43))"
   ],
   "metadata": {
    "collapsed": false
   }
  },
  {
   "cell_type": "code",
   "execution_count": null,
   "outputs": [],
   "source": [],
   "metadata": {
    "collapsed": false
   }
  }
 ],
 "metadata": {
  "kernelspec": {
   "display_name": "base",
   "language": "python",
   "name": "python3"
  },
  "language_info": {
   "codemirror_mode": {
    "name": "ipython",
    "version": 3
   },
   "file_extension": ".py",
   "mimetype": "text/x-python",
   "name": "python",
   "nbconvert_exporter": "python",
   "pygments_lexer": "ipython3",
   "version": "3.9.13"
  },
  "orig_nbformat": 4,
  "vscode": {
   "interpreter": {
    "hash": "0f7732b7f14f8f1d9c463b6b041f7e8eb59326d10c6a2d43bfd07a7825d266f1"
   }
  }
 },
 "nbformat": 4,
 "nbformat_minor": 2
}
